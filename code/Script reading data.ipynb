{
 "cells": [
  {
   "cell_type": "code",
   "execution_count": 1,
   "metadata": {},
   "outputs": [],
   "source": [
    "import numpy as np\n",
    "import pandas as pd\n",
    "import matplotlib.pyplot as plt\n",
    "import scipy.io as spio\n",
    "import getpass\n",
    "import os\n",
    "import csv"
   ]
  },
  {
   "cell_type": "code",
   "execution_count": 34,
   "metadata": {},
   "outputs": [],
   "source": [
    "########## Variables #############\n",
    "Blank_zone = 0.11\n",
    "Vbeam = 6.32 # distance of vertical sample\n",
    "\n",
    "plot_vert_prof = False # Plot vertical profile\n",
    "save_vert_prof = True # Save vertical profile to file\n",
    "\n",
    "plot_cross_sec = False\n",
    "\n",
    "save_mid_depths = False\n",
    "\n",
    "folder_file_save = \"../output_images/{}.png\"\n",
    "folder_csv_save = \"../data/{}.csv\"\n",
    "depths_adcp_for_adv = folder_csv_save.format('depths_adcp_for_adv')\n",
    "##################################"
   ]
  },
  {
   "cell_type": "code",
   "execution_count": 31,
   "metadata": {},
   "outputs": [],
   "source": [
    "# Was function smartpulsehd on?\n",
    "smartpulsehd = np.array([1, 1, 0, 0, 0, 1])\n",
    "\n",
    "# Number of days in total\n",
    "numdays = 6\n",
    "\n",
    "# Name of the computer\n",
    "myhost = getpass.getuser()\n",
    "\n",
    "# Base folder\n",
    "datafolder = 'C:/Users/username/Documents/Fieldwork/fieldwork-2019-adcp-adv/data/'.replace('username', myhost)# basefolder\n",
    "basefolder = datafolder+'Sontek'\n",
    "\n",
    "# Subfolders\n",
    "daynames = [i[3:] for i in os.listdir(basefolder)]\n",
    "\n",
    "# Four different qs per time period\n",
    "allqs = [np.zeros(numdays) for i in range(4)]\n",
    "\n",
    "# Count the number of days\n",
    "day = 0\n",
    "\n"
   ]
  },
  {
   "cell_type": "code",
   "execution_count": 32,
   "metadata": {},
   "outputs": [],
   "source": [
    "# Open Excel with ADV results\n",
    "advexcel = datafolder+'ADVmeasurements.xlsx'\n"
   ]
  },
  {
   "cell_type": "code",
   "execution_count": 33,
   "metadata": {},
   "outputs": [
    {
     "name": "stdout",
     "output_type": "stream",
     "text": [
      "Monday morning\n",
      "20051002095139.mat 1\n",
      "Transducerdepth:  Monday morning 20051002095139.mat 0.07\n",
      "20051002095859.mat 0\n",
      "Transducerdepth:  Monday morning 20051002095859.mat 0.07\n",
      "20051002100742.mat 1\n",
      "Transducerdepth:  Monday morning 20051002100742.mat 0.07\n",
      "20051002101138.mat 0\n",
      "Transducerdepth:  Monday morning 20051002101138.mat 0.07\n",
      "Depths in middle:\n",
      "[0.    0.095 0.43  0.48  0.44  0.44  0.185 0.145 0.14 ]\n",
      "\n",
      "Mean Qs 0\n",
      "Mean right Q =  0.0003096332057860718 m^3/s\n",
      "Mean left Q =  0.0 m^3/s\n",
      "Mean top Q =  0.4411686607700176 m^3/s\n",
      "Mean middle Q =  1.8412028332031791 m^3/s\n",
      "Sum all 2.282990760384769\n",
      "Total Q 2.0281638998179554\n",
      "\n",
      "Monday afternoon\n",
      "20051002153808.mat 1\n",
      "Transducerdepth:  Monday afternoon 20051002153808.mat 0.07\n",
      "20051002154435.mat 0\n",
      "Transducerdepth:  Monday afternoon 20051002154435.mat 0.07\n",
      "20051002155011.mat 1\n",
      "Transducerdepth:  Monday afternoon 20051002155011.mat 0.07\n",
      "20051002160639.mat 0\n",
      "Transducerdepth:  Monday afternoon 20051002160639.mat 0.07\n",
      "20051002164153.mat 1\n",
      "Transducerdepth:  Monday afternoon 20051002164153.mat 0.0\n",
      "Depths in middle:\n",
      "[0.068 0.124 0.404 0.452 0.388 0.388 0.128 0.084 0.048]\n",
      "\n",
      "Mean Qs 1\n",
      "Mean right Q =  0.0011416494628508286 m^3/s\n",
      "Mean left Q =  0.0 m^3/s\n",
      "Mean top Q =  0.3744801145730435 m^3/s\n",
      "Mean middle Q =  1.703583346490055 m^3/s\n",
      "Sum all 2.0803467599888\n",
      "Total Q 1.4305656642622515\n",
      "\n",
      "Tuesday morning\n",
      "20051003091920.mat 1\n",
      "Transducerdepth:  Tuesday morning 20051003091920.mat 0.08\n",
      "20051003092617.mat 0\n",
      "Transducerdepth:  Tuesday morning 20051003092617.mat 0.08\n",
      "20051003093603.mat 1\n",
      "Transducerdepth:  Tuesday morning 20051003093603.mat 0.08\n",
      "20051003094029.mat 0\n",
      "Transducerdepth:  Tuesday morning 20051003094029.mat 0.08\n",
      "20051003094530.mat 1\n",
      "Transducerdepth:  Tuesday morning 20051003094530.mat 0.08\n",
      "20051003094929.mat 0\n",
      "Transducerdepth:  Tuesday morning 20051003094929.mat 0.08\n",
      "Depths in middle:\n",
      "[0.18333333 0.18333333 0.38333333 0.31666667 0.25       0.25\n",
      " 0.1        0.06666667 0.05       0.05       0.05      ]\n",
      "\n",
      "Mean Qs 2\n",
      "Mean right Q =  0.007130292675603482 m^3/s\n",
      "Mean left Q =  0.0159614803655765 m^3/s\n",
      "Mean top Q =  0.5633713644771584 m^3/s\n",
      "Mean middle Q =  1.8291492739796402 m^3/s\n",
      "Sum all 2.4067812238080055\n",
      "Total Q 1.9651134760590967\n",
      "\n",
      "Tuesday afternoon\n",
      "20051003144213.mat 1\n",
      "Transducerdepth:  Tuesday afternoon 20051003144213.mat 0.06\n",
      "20051003144711.mat 0\n",
      "Transducerdepth:  Tuesday afternoon 20051003144711.mat 0.06\n",
      "20051003145020.mat 1\n",
      "Transducerdepth:  Tuesday afternoon 20051003145020.mat 0.06\n",
      "20051003145441.mat 0\n",
      "Transducerdepth:  Tuesday afternoon 20051003145441.mat 0.06\n",
      "Depths in middle:\n",
      "[0.15   0.1875 0.4    0.35   0.2875 0.2875 0.125  0.0625 0.05   0.05\n",
      " 0.05  ]\n",
      "\n",
      "Mean Qs 3\n",
      "Mean right Q =  0.005263176512563356 m^3/s\n",
      "Mean left Q =  0.019253096898764047 m^3/s\n",
      "Mean top Q =  0.5191100061142606 m^3/s\n",
      "Mean middle Q =  1.9146031495350013 m^3/s\n",
      "Sum all 2.4442395086743884\n",
      "Total Q 1.9897891520775999\n",
      "\n",
      "Wednesday afternoon\n",
      "20051004133525r.mat 1\n",
      "Transducerdepth:  Wednesday afternoon 20051004133525r.mat 0.08\n",
      "20051004134026r.mat 0\n",
      "Transducerdepth:  Wednesday afternoon 20051004134026r.mat 0.08\n",
      "20051004134427.mat 1\n",
      "Transducerdepth:  Wednesday afternoon 20051004134427.mat 0.08\n",
      "20051004134809r.mat 0\n",
      "Transducerdepth:  Wednesday afternoon 20051004134809r.mat 0.08\n",
      "20051004135347r.mat 1\n",
      "Transducerdepth:  Wednesday afternoon 20051004135347r.mat 0.08\n",
      "20051004135713r.mat 0\n",
      "Transducerdepth:  Wednesday afternoon 20051004135713r.mat 0.08\n",
      "Depths in middle:\n",
      "[0.06666667 0.075      0.45       0.40833333 0.44166667 0.44166667\n",
      " 0.275      0.175      0.09166667 0.09166667 0.09166667]\n",
      "\n",
      "Mean Qs 4\n",
      "Mean right Q =  0.017423960248490536 m^3/s\n",
      "Mean left Q =  0.051774862437754254 m^3/s\n",
      "Mean top Q =  0.6257924229739729 m^3/s\n",
      "Mean middle Q =  2.2001371990800487 m^3/s\n",
      "Sum all 2.8607775425510025\n",
      "Total Q 2.19178739617493\n",
      "\n",
      "Thursday morning\n",
      "20051005102341.mat 1\n",
      "Transducerdepth:  Thursday morning 20051005102341.mat 0.06\n"
     ]
    },
    {
     "ename": "TypeError",
     "evalue": "ufunc 'subtract' did not contain a loop with signature matching types dtype('<U32') dtype('<U32') dtype('<U32')",
     "output_type": "error",
     "traceback": [
      "\u001b[1;31m---------------------------------------------------------------------------\u001b[0m",
      "\u001b[1;31mTypeError\u001b[0m                                 Traceback (most recent call last)",
      "\u001b[1;32m<ipython-input-33-0ea3fd9a8f2f>\u001b[0m in \u001b[0;36m<module>\u001b[1;34m\u001b[0m\n\u001b[0;32m    105\u001b[0m         \u001b[1;31m# Take out of the middle depths for comparison with the ADV\u001b[0m\u001b[1;33m\u001b[0m\u001b[1;33m\u001b[0m\u001b[1;33m\u001b[0m\u001b[0m\n\u001b[0;32m    106\u001b[0m         \u001b[1;32mfor\u001b[0m \u001b[0mk\u001b[0m \u001b[1;32min\u001b[0m \u001b[0mrange\u001b[0m\u001b[1;33m(\u001b[0m\u001b[0mlen\u001b[0m\u001b[1;33m(\u001b[0m\u001b[0mmeas_locs\u001b[0m\u001b[1;33m)\u001b[0m\u001b[1;33m)\u001b[0m\u001b[1;33m:\u001b[0m\u001b[1;33m\u001b[0m\u001b[1;33m\u001b[0m\u001b[0m\n\u001b[1;32m--> 107\u001b[1;33m             \u001b[0mdist_to_loc\u001b[0m \u001b[1;33m=\u001b[0m \u001b[0mnp\u001b[0m\u001b[1;33m.\u001b[0m\u001b[0marray\u001b[0m\u001b[1;33m(\u001b[0m\u001b[1;33m[\u001b[0m\u001b[0mabs\u001b[0m\u001b[1;33m(\u001b[0m\u001b[0mDistance\u001b[0m\u001b[1;33m[\u001b[0m\u001b[0mi\u001b[0m\u001b[1;33m]\u001b[0m\u001b[1;33m-\u001b[0m\u001b[0mmeas_locs\u001b[0m\u001b[1;33m[\u001b[0m\u001b[0mk\u001b[0m\u001b[1;33m]\u001b[0m\u001b[1;33m)\u001b[0m \u001b[1;32mfor\u001b[0m \u001b[0mi\u001b[0m \u001b[1;32min\u001b[0m \u001b[0mrange\u001b[0m\u001b[1;33m(\u001b[0m\u001b[0mlen\u001b[0m\u001b[1;33m(\u001b[0m\u001b[0mDistance\u001b[0m\u001b[1;33m)\u001b[0m\u001b[1;33m)\u001b[0m\u001b[1;33m]\u001b[0m\u001b[1;33m)\u001b[0m\u001b[1;33m\u001b[0m\u001b[1;33m\u001b[0m\u001b[0m\n\u001b[0m\u001b[0;32m    108\u001b[0m             \u001b[0mloc_cell\u001b[0m \u001b[1;33m=\u001b[0m \u001b[0mnp\u001b[0m\u001b[1;33m.\u001b[0m\u001b[0margmin\u001b[0m\u001b[1;33m(\u001b[0m\u001b[0mdist_to_loc\u001b[0m\u001b[1;33m)\u001b[0m\u001b[1;33m\u001b[0m\u001b[1;33m\u001b[0m\u001b[0m\n\u001b[0;32m    109\u001b[0m             \u001b[0mtot_middepths\u001b[0m\u001b[1;33m[\u001b[0m\u001b[0mk\u001b[0m\u001b[1;33m,\u001b[0m \u001b[0mfilenum\u001b[0m\u001b[1;33m]\u001b[0m \u001b[1;33m=\u001b[0m \u001b[0mMiddepths\u001b[0m\u001b[1;33m[\u001b[0m\u001b[0mloc_cell\u001b[0m\u001b[1;33m]\u001b[0m\u001b[1;33m\u001b[0m\u001b[1;33m\u001b[0m\u001b[0m\n",
      "\u001b[1;32m<ipython-input-33-0ea3fd9a8f2f>\u001b[0m in \u001b[0;36m<listcomp>\u001b[1;34m(.0)\u001b[0m\n\u001b[0;32m    105\u001b[0m         \u001b[1;31m# Take out of the middle depths for comparison with the ADV\u001b[0m\u001b[1;33m\u001b[0m\u001b[1;33m\u001b[0m\u001b[1;33m\u001b[0m\u001b[0m\n\u001b[0;32m    106\u001b[0m         \u001b[1;32mfor\u001b[0m \u001b[0mk\u001b[0m \u001b[1;32min\u001b[0m \u001b[0mrange\u001b[0m\u001b[1;33m(\u001b[0m\u001b[0mlen\u001b[0m\u001b[1;33m(\u001b[0m\u001b[0mmeas_locs\u001b[0m\u001b[1;33m)\u001b[0m\u001b[1;33m)\u001b[0m\u001b[1;33m:\u001b[0m\u001b[1;33m\u001b[0m\u001b[1;33m\u001b[0m\u001b[0m\n\u001b[1;32m--> 107\u001b[1;33m             \u001b[0mdist_to_loc\u001b[0m \u001b[1;33m=\u001b[0m \u001b[0mnp\u001b[0m\u001b[1;33m.\u001b[0m\u001b[0marray\u001b[0m\u001b[1;33m(\u001b[0m\u001b[1;33m[\u001b[0m\u001b[0mabs\u001b[0m\u001b[1;33m(\u001b[0m\u001b[0mDistance\u001b[0m\u001b[1;33m[\u001b[0m\u001b[0mi\u001b[0m\u001b[1;33m]\u001b[0m\u001b[1;33m-\u001b[0m\u001b[0mmeas_locs\u001b[0m\u001b[1;33m[\u001b[0m\u001b[0mk\u001b[0m\u001b[1;33m]\u001b[0m\u001b[1;33m)\u001b[0m \u001b[1;32mfor\u001b[0m \u001b[0mi\u001b[0m \u001b[1;32min\u001b[0m \u001b[0mrange\u001b[0m\u001b[1;33m(\u001b[0m\u001b[0mlen\u001b[0m\u001b[1;33m(\u001b[0m\u001b[0mDistance\u001b[0m\u001b[1;33m)\u001b[0m\u001b[1;33m)\u001b[0m\u001b[1;33m]\u001b[0m\u001b[1;33m)\u001b[0m\u001b[1;33m\u001b[0m\u001b[1;33m\u001b[0m\u001b[0m\n\u001b[0m\u001b[0;32m    108\u001b[0m             \u001b[0mloc_cell\u001b[0m \u001b[1;33m=\u001b[0m \u001b[0mnp\u001b[0m\u001b[1;33m.\u001b[0m\u001b[0margmin\u001b[0m\u001b[1;33m(\u001b[0m\u001b[0mdist_to_loc\u001b[0m\u001b[1;33m)\u001b[0m\u001b[1;33m\u001b[0m\u001b[1;33m\u001b[0m\u001b[0m\n\u001b[0;32m    109\u001b[0m             \u001b[0mtot_middepths\u001b[0m\u001b[1;33m[\u001b[0m\u001b[0mk\u001b[0m\u001b[1;33m,\u001b[0m \u001b[0mfilenum\u001b[0m\u001b[1;33m]\u001b[0m \u001b[1;33m=\u001b[0m \u001b[0mMiddepths\u001b[0m\u001b[1;33m[\u001b[0m\u001b[0mloc_cell\u001b[0m\u001b[1;33m]\u001b[0m\u001b[1;33m\u001b[0m\u001b[1;33m\u001b[0m\u001b[0m\n",
      "\u001b[1;31mTypeError\u001b[0m: ufunc 'subtract' did not contain a loop with signature matching types dtype('<U32') dtype('<U32') dtype('<U32')"
     ]
    }
   ],
   "source": [
    "\n",
    "\n",
    "# loop over all roots\n",
    "for root, dirs, files in os.walk(basefolder, topdown=False):\n",
    "    \n",
    "    # Don't look in the basefolder\n",
    "    if root == basefolder:\n",
    "        continue\n",
    "        \n",
    "    # which folder are we doing right now?\n",
    "    print(daynames[day])\n",
    "    \n",
    "    \n",
    "    \n",
    "    # Per time period, save the number of depth cells\n",
    "    tot_xs = {}\n",
    "    len_xs = 1000\n",
    "    \n",
    "    # Files that we want to use\n",
    "    goodfiles = [file for file in files if (file[-4:] == '.mat') and (file[-5:] != 'y.mat')] \n",
    "    \n",
    "    # Total Qs to be saved\n",
    "    tot_rightq = np.zeros(len(goodfiles))\n",
    "    tot_leftq = np.zeros_like(tot_rightq)\n",
    "    tot_topq = np.zeros_like(tot_rightq)\n",
    "    tot_middleq = np.zeros_like(tot_rightq)\n",
    "    \n",
    "    # Read the Excel of the ADV measurements\n",
    "    adv = pd.read_excel(advexcel, sheet_name=daynames[day])\n",
    "    meas_locs = adv.iloc[2, 1:].dropna()\n",
    "\n",
    "    # Save depths in middle\n",
    "    tot_middepths = np.zeros((len(meas_locs), len(goodfiles)))\n",
    "    \n",
    "    # Remember the number of the file\n",
    "    filenum = 0\n",
    "    \n",
    "    # Loop over the correct files in the folder\n",
    "    for file in goodfiles:\n",
    "        \n",
    "        # Load direction from file in folder\n",
    "        direction = int(np.loadtxt(root+'/direction.txt', delimiter = ',')[filenum])\n",
    "        print(file, direction)\n",
    "\n",
    "        # Load the file\n",
    "        matfile = root+'/'+file\n",
    "        mat = spio.loadmat(matfile)\n",
    "\n",
    "        # Load velocity for each of the four beams\n",
    "        Velocity = mat['WaterTrack']['Velocity'][()][0][0]       # velocity for each of the 4 beams\n",
    "\n",
    "\n",
    "        Vprofile = (Velocity[:,0,:]**2+Velocity[:,1,:]**2)**0.5  # average velocity profile\n",
    "        if plot_cross_sec:\n",
    "            plt.figure(figsize=(8,12))\n",
    "            plt.imshow(Vprofile[:20, :])\n",
    "        \n",
    "        ### Qs ###\n",
    "        # Load the extrapolated qs\n",
    "        RightQ = mat['Summary']['Right_Q'][()][0][0][-1][0]\n",
    "        LeftQ = mat['Summary']['Left_Q'][()][0][0][-1][0]\n",
    "        TopQ = mat['Summary']['Top_Q'][()][0][0][-1][0]\n",
    "        # Load calculated \n",
    "        MiddleQ = mat['Summary']['Middle_Q'][()][0][0][-1][0]+mat['Summary']['Bottom_Q'][()][0][0][-1][0]+mat['Summary']['Top_Q'][()][0][0][-1][0]\n",
    "        # Load total discharge\n",
    "        Discharge   = mat['Summary']['Total_Q'][()][0][0]     # discharge\n",
    "        \n",
    "        # Save total Qs such that average can be taken\n",
    "        tot_rightq[filenum] = RightQ\n",
    "        tot_leftq[filenum] = LeftQ\n",
    "        tot_topq[filenum] = TopQ\n",
    "        tot_middleq[filenum] = MiddleQ\n",
    "\n",
    "        # Print the transducerdepth\n",
    "        TransducerDepth = mat['Setup']['sensorDepth'][()][0][0][0][0]\n",
    "        print('Transducerdepth: ', daynames[day], file, TransducerDepth)\n",
    "\n",
    "        Vmean = mat['Summary']['Mean_Vel'][()][:,0][0][0] # = nanmean(Vprofile,1)   # average velocity averaged over the depth   \n",
    "\n",
    "        # Load measured depth per column\n",
    "        Depth = mat['Summary']['Depth'][()][0][0] \n",
    "        \n",
    "        # Load the number of cells per column\n",
    "        Cells = (mat['Summary']['Cells'][()])[0][0]#.astype('int')                   # number of cells for each vertical beam\n",
    "        Cells = np.array([int(Cells[i][0]) for i in range(len(Cells))])\n",
    "        \n",
    "        # Load cell sizes\n",
    "        Cellsize = mat['System']['Cell_Size'][()][0][0]\n",
    "        Cellsize = np.array([round(Cellsize[i][0],4) for i in range(len(Cells))])\n",
    "\n",
    "        \n",
    "        \n",
    "        # Load the track of the boat\n",
    "        Track = mat['Summary']['Track'][()][0][0]    # track location for each sample in X/Y coordinates\n",
    "        Track_x = np.array([Track[i][0] for i in range(len(Track))])\n",
    "        Track_y = np.array([Track[i][1] for i in range(len(Track))])\n",
    "        Distance = np.array([(Track_x[i]**2+Track_y[i]**2)**0.5 for i in range(len(Track_x))]) #np.sum(abs(Track),1)    #this is probably not be correct and it depends how Track is measured. Please check this!\n",
    "\n",
    "        if direction==1:  # flip if reverse\n",
    "            Distance = np.max(Distance)-Distance\n",
    "            \n",
    "        # Depths in the measured area\n",
    "        Middepths = Cells*Cellsize\n",
    "        \n",
    "        # Take out of the middle depths for comparison with the ADV\n",
    "        for k in range(len(meas_locs)):\n",
    "            dist_to_loc = np.array([abs(Distance[i]-meas_locs[k]) for i in range(len(Distance))])\n",
    "            loc_cell = np.argmin(dist_to_loc)\n",
    "            tot_middepths[k, filenum] = Middepths[loc_cell]\n",
    "\n",
    "        # Plot the track\n",
    "        #plt.figure()\n",
    "        #plt.plot(Track_x, Track_y)\n",
    "        #plt.axis('equal')\n",
    "\n",
    "        # Depth_BT    = mat['BottomTrack']['BT_Depth'][()][0][0] # bottom track (BT) depth using 4 beams at 3MHz frequency (smaller depth range, higher resolution). The depth is estimated assuming the river bed does not move and using boat movement information.\n",
    "        #DepthBeam   = mat['BottomTrack']['BT_Beam_Depth'][()][0][0]                       # total water depth for each beam\n",
    "\n",
    "\n",
    "        dist_to_vbeam = np.array([abs(Distance[i]-Vbeam) for i in range(len(Distance))])\n",
    "\n",
    "        Vbeam_cell = np.argmin(dist_to_vbeam)\n",
    "\n",
    "        y_axis = -Blank_zone-Cellsize[Vbeam_cell]*np.linspace(0.5, Cells[Vbeam_cell]-0.5,Cells[Vbeam_cell])\n",
    "        x_axis =  Vprofile[0:Cells[Vbeam_cell], Vbeam_cell]\n",
    "\n",
    "        # x_axis = np.array([(x_axis[i]*2+x_axisplus1[i]+x_axisminus1[i])/4 for i in range(minsides)])\n",
    "        tot_xs[file] = x_axis\n",
    "\n",
    "        if len(x_axis) < len_xs:\n",
    "            len_xs = len(x_axis)\n",
    "            tot_ys = y_axis #[0:minsides]\n",
    "\n",
    "        '''\n",
    "        plt.figure()\n",
    "        plt.plot(-Depth, 'b')\n",
    "\n",
    "        plt.plot(-Cellsize*np.array(Cells)-Blank_zone, 'r')\n",
    "        plt.plot([0,len(Cells)], [-Blank_zone, -Blank_zone], 'r')\n",
    "        plt.plot([0,len(Cells)], [0,0], 'b')\n",
    "        '''         \n",
    "        filenum +=1\n",
    "    \n",
    "    # Process the middle depth values\n",
    "    if save_mid_depths:\n",
    "        with open(depths_adcp_for_adv, 'a', newline = \"\") as csv_file:\n",
    "            avg_middepths =  np.zeros(len(meas_locs))\n",
    "            for i in range(len(meas_locs)):\n",
    "                avg_middepths[i] = np.mean(tot_middepths[i, :])\n",
    "\n",
    "            print(\"Depths in middle:\")\n",
    "            print(avg_middepths)\n",
    "\n",
    "            csv_writer = csv.writer(csv_file)\n",
    "            csv_writer.writerow([daynames[day]]+[l for l in avg_middepths])\n",
    "\n",
    "    \n",
    "    \n",
    "    # Process the vertical profile\n",
    "    x_axis_tot = np.zeros(len_xs)\n",
    "    \n",
    "    for j in range(len_xs):     #depths\n",
    "        level_tot = np.zeros(len(goodfiles))\n",
    "        \n",
    "        i = 0\n",
    "        for file in goodfiles: #files\n",
    "            level_tot[i] = tot_xs[file][j]\n",
    "            i+=1\n",
    "                \n",
    "        x_axis_tot[j] = np.mean(level_tot)\n",
    "    \n",
    "    # Plot vertical velocity profile\n",
    "    if plot_vert_prof:\n",
    "        plt.figure(figsize=(12,8))\n",
    "        plt.plot(x_axis_tot, tot_ys)\n",
    "        plt.ylim((-.6,0))\n",
    "        plt.xlim((0, 0.6))\n",
    "        plt.xlabel('Water velocity (m/s)')\n",
    "        plt.ylabel('Depth (m)')\n",
    "        plt.title('Vertical profile on {} m on {}'.format(str(Vbeam), daynames[day]))\n",
    "        if save_vert_prof:\n",
    "            plt.savefig(folder_file_save.format('Vert_prof_vbeam_'+str(Vbeam).replace('.',',')+'_'+ daynames[day]))\n",
    "\n",
    "    # Means of the Qs\n",
    "    mean_rightq = np.mean(tot_rightq)\n",
    "    mean_leftq = np.mean(tot_leftq)\n",
    "    mean_topq = np.mean(tot_topq)\n",
    "    mean_middleq = np.mean(tot_middleq)\n",
    "\n",
    "    # Print means\n",
    "    print()\n",
    "    print('Mean Qs', day)\n",
    "    print('Mean right Q = ', mean_rightq, 'm^3/s')\n",
    "    print('Mean left Q = ', mean_leftq, 'm^3/s')\n",
    "    print('Mean top Q = ', mean_topq, 'm^3/s')\n",
    "    print('Mean middle Q = ', mean_middleq, 'm^3/s')\n",
    "    print('Sum all', sum((mean_rightq, mean_rightq, mean_topq, mean_middleq)))\n",
    "    print('Total Q', Discharge[-1][0])\n",
    "\n",
    "    # Save means\n",
    "    allqs[0][day] = mean_rightq\n",
    "    allqs[1][day] = mean_leftq\n",
    "    allqs[2][day] = mean_topq\n",
    "    allqs[3][day] = mean_middleq\n",
    "        \n",
    "    print()\n",
    "    day += 1\n"
   ]
  },
  {
   "cell_type": "code",
   "execution_count": null,
   "metadata": {},
   "outputs": [],
   "source": [
    "with open('employee_birthday.txt') as csv_file:\n",
    "    csv_reader = csv.reader(csv_file, delimiter=',')\n",
    "    line_count = 0\n",
    "    for row in csv_reader:\n",
    "        if line_count == 0:\n",
    "            print(f'Column names are {\", \".join(row)}')\n",
    "            line_count += 1\n",
    "        else:\n",
    "            print(f'\\t{row[0]} works in the {row[1]} department, and was born in {row[2]}.')\n",
    "            line_count += 1\n",
    "    print(f'Processed {line_count} lines.')"
   ]
  },
  {
   "cell_type": "code",
   "execution_count": null,
   "metadata": {},
   "outputs": [],
   "source": [
    "print(allqs)"
   ]
  },
  {
   "cell_type": "code",
   "execution_count": 6,
   "metadata": {},
   "outputs": [
    {
     "data": {
      "text/plain": [
       "<Figure size 504x504 with 0 Axes>"
      ]
     },
     "execution_count": 6,
     "metadata": {},
     "output_type": "execute_result"
    },
    {
     "data": {
      "image/png": "[encoded data removed]",
      "text/plain": [
       "<Figure size 504x504 with 1 Axes>"
      ]
     },
     "metadata": {
      "needs_background": "light"
     },
     "output_type": "display_data"
    },
    {
     "data": {
      "text/plain": [
       "<Figure size 504x504 with 0 Axes>"
      ]
     },
     "metadata": {},
     "output_type": "display_data"
    }
   ],
   "source": [
    "rightadv = np.array([0.04, 0.05, 0.04, 10000,  0.07, 0.06])\n",
    "leftadv = np.array([0.03, 0.03, 0.07, 10,  0.06, 0.1])\n",
    "middleadv = np.array([0.95, 1.56, 1.77, 100,  2.04, 2.02])\n",
    "\n",
    "\n",
    "\n",
    "plt.figure(figsize=(7,7))\n",
    "plt.axvline(0, color='lightgray')\n",
    "plt.axhline(0, color='lightgray')\n",
    "plt.plot([-3, 3], [-3, 3])\n",
    "plt.xlim((-.1, 2.3))\n",
    "plt.ylim((-.1, 2.3))\n",
    "\n",
    "plt.plot(middleadv[smartpulsehd==1], allqs[3][smartpulsehd==1], 'bo', label = 'SmartPulseHD')\n",
    "plt.plot(middleadv[smartpulsehd==0], allqs[3][smartpulsehd==0], 'ro', label = 'Manual cell size')\n",
    "plt.legend()\n",
    "plt.xlabel('Discharge ADV (m^3/s)')\n",
    "plt.ylabel('Discharge ADCP (m^3/s)')\n",
    "plt.title('Discharge in the middle')\n",
    "plt.savefig('figure1.png')\n",
    "\n",
    "plt.figure(figsize=(7,7))\n"
   ]
  },
  {
   "cell_type": "code",
   "execution_count": 7,
   "metadata": {},
   "outputs": [
    {
     "data": {
      "image/png": "[encoded data removed]",
      "text/plain": [
       "<Figure size 504x504 with 1 Axes>"
      ]
     },
     "metadata": {
      "needs_background": "light"
     },
     "output_type": "display_data"
    }
   ],
   "source": [
    "plt.figure(figsize=(7,7))\n",
    "plt.axvline(0, color='lightgray')\n",
    "plt.axhline(0, color='lightgray')\n",
    "plt.plot([-3, 3], [-3, 3])\n",
    "\n",
    "plt.xlim((-0.12, 0.12))\n",
    "plt.ylim((-0.12, 0.12))\n",
    "\n",
    "plt.plot(rightadv[smartpulsehd==1], allqs[0][smartpulsehd==1], 'bo', label = 'SmartPulseHD')\n",
    "plt.plot(rightadv[smartpulsehd==0], allqs[0][smartpulsehd==0], 'ro', label = 'Manual cell size')\n",
    "plt.legend()\n",
    "plt.xlabel('Discharge ADV (m^3/s)')\n",
    "plt.ylabel('Discharge ADCP (m^3/s)')\n",
    "plt.title('Discharge in the right')\n",
    "plt.savefig('figure2.png')\n"
   ]
  },
  {
   "cell_type": "code",
   "execution_count": 8,
   "metadata": {},
   "outputs": [
    {
     "data": {
      "image/png": "[encoded data removed]",
      "text/plain": [
       "<Figure size 504x504 with 1 Axes>"
      ]
     },
     "metadata": {
      "needs_background": "light"
     },
     "output_type": "display_data"
    }
   ],
   "source": [
    "plt.figure(figsize=(7,7))\n",
    "plt.axvline(0, color='lightgray')\n",
    "plt.axhline(0, color='lightgray')\n",
    "plt.plot([-3, 3], [-3, 3])\n",
    "plt.xlim((-0.12, 0.12))\n",
    "plt.ylim((-0.12, 0.12))\n",
    "\n",
    "plt.plot(rightadv[smartpulsehd==1], allqs[1][smartpulsehd==1], 'bo', label = 'SmartPulseHD')\n",
    "plt.plot(rightadv[smartpulsehd==0], allqs[1][smartpulsehd==0], 'ro', label = 'Manual cell size')\n",
    "plt.legend()\n",
    "plt.xlabel('Discharge ADV (m^3/s)')\n",
    "plt.ylabel('Discharge ADCP (m^3/s)')\n",
    "plt.title('Discharge in the left')\n",
    "plt.savefig('figure3.png')"
   ]
  },
  {
   "cell_type": "code",
   "execution_count": 9,
   "metadata": {},
   "outputs": [],
   "source": [
    "# get depths"
   ]
  },
  {
   "cell_type": "code",
   "execution_count": 10,
   "metadata": {},
   "outputs": [
    {
     "name": "stdout",
     "output_type": "stream",
     "text": [
      "C:/Users/Sjoerd Gn/Documents/Fieldwork/fieldwork-2019-adcp-adv/data/Sontek\\1. Monday morning\n",
      "C:/Users/Sjoerd Gn/Documents/Fieldwork/fieldwork-2019-adcp-adv/data/Sontek\\2. Monday afternoon\n",
      "C:/Users/Sjoerd Gn/Documents/Fieldwork/fieldwork-2019-adcp-adv/data/Sontek\\3. Tuesday morning\n",
      "C:/Users/Sjoerd Gn/Documents/Fieldwork/fieldwork-2019-adcp-adv/data/Sontek\\4. Tuesday afternoon\n",
      "C:/Users/Sjoerd Gn/Documents/Fieldwork/fieldwork-2019-adcp-adv/data/Sontek\\6. Wednesday afternoon\n",
      "C:/Users/Sjoerd Gn/Documents/Fieldwork/fieldwork-2019-adcp-adv/data/Sontek\\7. Thursday morning\n",
      "C:/Users/Sjoerd Gn/Documents/Fieldwork/fieldwork-2019-adcp-adv/data/Sontek\n"
     ]
    }
   ],
   "source": [
    "# loop over all roots\n",
    "for root, dirs, files in os.walk(basefolder, topdown=False):\n",
    "    \n",
    "\n",
    "        \n",
    "    # which folder are we doing right now?\n",
    "    print(root)\n",
    "    \n",
    "    # Per time period, save the number of depth cells\n",
    "    tot_xs = {}\n",
    "    len_xs = 1000\n",
    "    \n",
    "    # Files that we want to use\n",
    "    goodfiles = [file for file in files if (file[-4:] == '.mat') and (file[-5:] != 'y.mat')] \n",
    "    \n",
    "    # Total Qs to be saved\n",
    "    tot_rightq = np.zeros(len(goodfiles))\n",
    "    tot_leftq = np.zeros_like(tot_rightq)\n",
    "    tot_topq = np.zeros_like(tot_rightq)\n",
    "    tot_middleq = np.zeros_like(tot_rightq)\n",
    "    \n",
    "    filenum = 0"
   ]
  },
  {
   "cell_type": "code",
   "execution_count": 11,
   "metadata": {},
   "outputs": [
    {
     "name": "stdout",
     "output_type": "stream",
     "text": [
      "C:/Users/Sjoerd Gn/Documents/Fieldwork/fieldwork-2019-adcp-adv/data/Sontek\\1. Monday morning [] ['20051002095139.mat', '20051002095139.riv', '20051002095139.wsp', '20051002095859.mat', '20051002095859.riv', '20051002100742.mat', '20051002100742.riv', '20051002101138.mat', '20051002101138.riv', 'direction.txt']\n",
      "C:/Users/Sjoerd Gn/Documents/Fieldwork/fieldwork-2019-adcp-adv/data/Sontek\\2. Monday afternoon [] ['20051002153808.mat', '20051002153808.riv', '20051002154435.mat', '20051002154435.riv', '20051002155011.mat', '20051002155011.riv', '20051002160639.mat', '20051002160639.riv', '20051002164153.mat', '20051002164153.riv', 'direction.txt']\n",
      "C:/Users/Sjoerd Gn/Documents/Fieldwork/fieldwork-2019-adcp-adv/data/Sontek\\3. Tuesday morning [] ['20051003091920.mat', '20051003091920.riv', '20051003091920.wsp', '20051003092617.mat', '20051003092617.riv', '20051003093603.mat', '20051003093603.riv', '20051003094029.mat', '20051003094029.riv', '20051003094530.mat', '20051003094530.riv', '20051003094929.mat', '20051003094929.riv', 'direction.txt']\n",
      "C:/Users/Sjoerd Gn/Documents/Fieldwork/fieldwork-2019-adcp-adv/data/Sontek\\4. Tuesday afternoon [] ['20051003144213.mat', '20051003144213.riv', '20051003144213.wsp', '20051003144711.mat', '20051003144711.riv', '20051003145020.mat', '20051003145020.riv', '20051003145441.mat', '20051003145441.riv', 'direction.txt']\n",
      "C:/Users/Sjoerd Gn/Documents/Fieldwork/fieldwork-2019-adcp-adv/data/Sontek\\6. Wednesday afternoon [] ['20051004133525r.mat', '20051004133525r.rivr', '20051004133525r.wsp', '20051004134026r.mat', '20051004134026r.rivr', '20051004134026r.wsp', '20051004134427.mat', '20051004134427.riv', '20051004134427.wsp', '20051004134809r.mat', '20051004134809r.rivr', '20051004134809r.wsp', '20051004135347r.mat', '20051004135347r.rivr', '20051004135347r.wsp', '20051004135713r.mat', '20051004135713r.rivr', '20051004135713r.wsp', 'direction.txt']\n",
      "C:/Users/Sjoerd Gn/Documents/Fieldwork/fieldwork-2019-adcp-adv/data/Sontek\\7. Thursday morning [] ['20051005102341.mat', '20051005102341.riv', '20051005103138.mat', '20051005103138.riv', '20051005112156r.mat', '20051005112156r.rivr', '20051005112156r.wsp', '20051005112816r.mat', '20051005112816r.rivr', '20051005112816r.wsp', 'direction.txt']\n",
      "C:/Users/Sjoerd Gn/Documents/Fieldwork/fieldwork-2019-adcp-adv/data/Sontek ['1. Monday morning', '2. Monday afternoon', '3. Tuesday morning', '4. Tuesday afternoon', '6. Wednesday afternoon', '7. Thursday morning'] []\n"
     ]
    }
   ],
   "source": [
    "for root, dirs, files in os.walk(basefolder, topdown=False):\n",
    "    print(root, dirs, files)"
   ]
  },
  {
   "cell_type": "code",
   "execution_count": 12,
   "metadata": {},
   "outputs": [
    {
     "name": "stdout",
     "output_type": "stream",
     "text": [
      "[]\n"
     ]
    }
   ],
   "source": [
    "print([name for name in os.listdir(basefolder) if os.path.isdir(name)])"
   ]
  },
  {
   "cell_type": "code",
   "execution_count": 13,
   "metadata": {},
   "outputs": [],
   "source": [
    "daynames = os.listdir(basefolder)"
   ]
  },
  {
   "cell_type": "code",
   "execution_count": 14,
   "metadata": {},
   "outputs": [
    {
     "name": "stdout",
     "output_type": "stream",
     "text": [
      "Monday morning\n",
      "Monday afternoon\n",
      "Tuesday morning\n",
      "Tuesday afternoon\n",
      "Wednesday afternoon\n",
      "Thursday morning\n"
     ]
    }
   ],
   "source": [
    "for i in daynames:\n",
    "    print(i[3:])"
   ]
  },
  {
   "cell_type": "code",
   "execution_count": 15,
   "metadata": {},
   "outputs": [
    {
     "name": "stdout",
     "output_type": "stream",
     "text": [
      "['Monday morning', 'Monday afternoon', 'Tuesday morning', 'Tuesday afternoon', 'Wednesday afternoon', 'Thursday morning']\n"
     ]
    }
   ],
   "source": [
    "daynames = [i[3:] for i in os.listdir(basefolder)]\n",
    "print(daynames)"
   ]
  },
  {
   "cell_type": "code",
   "execution_count": null,
   "metadata": {},
   "outputs": [],
   "source": []
  }
 ],
 "metadata": {
  "kernelspec": {
   "display_name": "Python 3",
   "language": "python",
   "name": "python3"
  },
  "language_info": {
   "codemirror_mode": {
    "name": "ipython",
    "version": 3
   },
   "file_extension": ".py",
   "mimetype": "text/x-python",
   "name": "python",
   "nbconvert_exporter": "python",
   "pygments_lexer": "ipython3",
   "version": "3.7.1"
  }
 },
 "nbformat": 4,
 "nbformat_minor": 2
}
